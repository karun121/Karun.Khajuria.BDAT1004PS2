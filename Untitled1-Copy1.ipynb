{
 "cells": [
  {
   "cell_type": "markdown",
   "id": "bab65e88",
   "metadata": {},
   "source": [
    "# Question 1\n",
    "\n",
    "Consider the following Python module:\n",
    "\n",
    "a = 0\n",
    "\n",
    "def b():\n",
    "\n",
    "global a\n",
    "\n",
    "a = c(a)\n",
    " \n",
    " def c(a):\n",
    " \n",
    " return a + 2\n",
    " \n",
    "After importing the module into the interpreter, you execute:\n",
    "\n",
    "print (b())\n",
    "\n",
    "print (b())\n",
    "\n",
    "print (b())\n",
    "\n",
    "print (a)\n",
    "\n",
    "What value is displayed when the last expression (a) is evaluated? Explain your\n",
    "answer by indicating what happens in every executed statement.\n",
    "\n"
   ]
  },
  {
   "cell_type": "markdown",
   "id": "e1244353",
   "metadata": {},
   "source": [
    "# ANSWER\n",
    "\n",
    "In the first print statement:- the function starts from def b taking a as zero and initiates function c() by calling it, which returns 2 as a result. Global variable a becomes 2. and it outputs none because func b is not returning  anything.\n",
    "\n",
    "In the second print statement:- it again starts from the def b function but this time global variable a has become 2. So function c returns now 4. Global variable a= 4 and it outputs none same as above. \n",
    "\n",
    "In the third print statement:- it similarly returns a none as a result but global a becomes 6.\n",
    "\n",
    "In the fourth print statement:- global a has become 6. so the output of this statement will be 6."
   ]
  },
  {
   "cell_type": "markdown",
   "id": "ba29be7e",
   "metadata": {},
   "source": []
  },
  {
   "cell_type": "markdown",
   "id": "025101ab",
   "metadata": {},
   "source": [
    "# Question 2\n",
    "\n",
    "Function fileLength(), given to you, takes the name of a file as input and returns\n",
    "the length of the file:\n",
    "\n",
    "As shown above, if the file cannot be found by the interpreter or if it cannot be read\n",
    "as a text file, an exception will be raised. Modify function fileLength() so that a\n",
    "friendly message is printed instead:\n",
    "\n",
    "fileLength('midterm.py')\n",
    "284\n",
    "\n",
    "fileLength('idterm.py')\n",
    "Traceback (most recent call last):\n",
    "\n",
    "File \"<pyshell#34>\", line 1, in \n",
    " fileLength('idterm.py')\n",
    "File \"/Users/me/midterm.py\", line 3, in fileLength\n",
    " infile = open(filename)\n",
    "FileNotFoundError: [Errno 2] No such file or directory:\n",
    "'idterm.py\n",
    "\n",
    " fileLength('midterm.py')\n",
    "358\n",
    "\n",
    " fileLength('idterm.py')\n",
    " \n",
    "File idterm.py not found.\n"
   ]
  },
  {
   "cell_type": "code",
   "execution_count": 16,
   "id": "7e20f5f3",
   "metadata": {},
   "outputs": [
    {
     "name": "stdout",
     "output_type": "stream",
     "text": [
      "File test.txt not found.\n",
      "22\n"
     ]
    }
   ],
   "source": [
    "def fileLength(file_name):\n",
    "    try:    \n",
    "        file = open(file_name)\n",
    "        contents = file.read()\n",
    "        file.close()\n",
    "        print(len(contents))\n",
    "        \n",
    "    except FileNotFoundError:\n",
    "        print(\"File \" +file_name+\" not found.\")\n",
    "        \n",
    "fileLength(\"est.txt\")\n",
    "fileLength(\"text.txt\")        \n",
    "    "
   ]
  },
  {
   "cell_type": "markdown",
   "id": "7b7667cc",
   "metadata": {},
   "source": [
    "# Question 3\n",
    "Write a class named Marsupial that can be used as shown below:\n",
    " m = Marsupial()\n",
    " \n",
    " m.put_in_pouch('doll')\n",
    " \n",
    " m.put_in_pouch('firetruck')\n",
    " \n",
    " m.put_in_pouch('kitten')\n",
    " \n",
    " m.pouch_contents()\n",
    " \n",
    "['doll', 'firetruck', 'kitten']\n",
    "Now write a class named Kangaroo as a subclass of Marsupial that inherits all the\n",
    "attributes of Marsupial and also:\n",
    "a. extends the Marsupial __init__ constructor to take, as input, the\n",
    "coordinates x and y of the Kangaroo object,\n",
    "b. supports method jump that takes number values dx and dy as input and\n",
    "moves the kangaroo by dx units along the x-axis and by dy units along the yaxis, and\n",
    "c. overloads the __str__ operator so it behaves as shown below.\n",
    "\n"
   ]
  },
  {
   "cell_type": "code",
   "execution_count": 24,
   "id": "f550f261",
   "metadata": {},
   "outputs": [
    {
     "data": {
      "text/plain": [
       "['doll', 'firetruck', 'kitten']"
      ]
     },
     "execution_count": 24,
     "metadata": {},
     "output_type": "execute_result"
    }
   ],
   "source": [
    "class Marsupial:                        \n",
    "    List=[]\n",
    "    # Defining class Marsupial() which has 3 methods namely: __init__ , put_in_pouch and pouch_contents\n",
    "# __init__ : This function will create an empty list -List\n",
    "# put_in_pouch() : This function will append items in the List\n",
    "# pouch_contents(): This function will display contents in the List\n",
    "\n",
    "    \n",
    "    def put_in_pouch(self,item):  \n",
    "        self.List.append(item)\n",
    "    def pouch_contents(self):\n",
    "        return self.List\n",
    "\n",
    "m=Marsupial()\n",
    "m.put_in_pouch(\"doll\")\n",
    "m.put_in_pouch(\"firetruck\")\n",
    "m.put_in_pouch(\"kitten\")\n",
    "m.pouch_contents()"
   ]
  },
  {
   "cell_type": "code",
   "execution_count": 31,
   "id": "1e64606b",
   "metadata": {},
   "outputs": [
    {
     "name": "stdout",
     "output_type": "stream",
     "text": [
      "I am a Kangaroo located at coordinates (0,0)\n",
      "I am a Kangaroo located at coordinates (3,0)\n"
     ]
    }
   ],
   "source": [
    "class Kangaroo(Marsupial):\n",
    "    \n",
    "    def __init__(self, x=0, y=0):\n",
    "        \n",
    "          Marsupial.__init__(self)\n",
    "          self.x = x\n",
    "          self.y = y\n",
    "        \n",
    "    def jump(self, dx=0, dy=0):\n",
    "        self.x += dx\n",
    "        self.y += dy    \n",
    "    def __str__(self):\n",
    "        return 'I am a Kangaroo located at coordinates ({},{})'.format(self.x, self.y)\n",
    "    \n",
    "k = Kangaroo(0,0)           \n",
    "print(k)                   \n",
    "\n",
    "k.put_in_pouch('doll')            \n",
    "k.put_in_pouch('firetruck')       \n",
    "k.put_in_pouch('kitten')         \n",
    "k.pouch_contents()   \n",
    "\n",
    "k.jump(1,0)         \n",
    "k.jump(1,0)       \n",
    "k.jump(1,0)         \n",
    "print(k)            "
   ]
  },
  {
   "cell_type": "markdown",
   "id": "c7480702",
   "metadata": {},
   "source": [
    "# Question 4\n",
    "Write function collatz() that takes a positive integer x as input and prints the\n",
    "Collatz sequence starting at x. A Collatz sequence is obtained by repeatedly applying\n",
    "this rule to the previous number x in the sequence:\n",
    "\n",
    "x = {\n",
    "𝑥/2 𝑖𝑓 𝑥 𝑖𝑠 𝑒𝑣𝑒𝑛\n",
    "3𝑥 + 1 𝑖𝑓 𝑥 𝑖𝑠 𝑜𝑑𝑑\n",
    "Your function should stop when the sequence gets to number 1. Your\n",
    "implementation must be recursive, without any loops."
   ]
  },
  {
   "cell_type": "code",
   "execution_count": 55,
   "id": "0479fbae",
   "metadata": {},
   "outputs": [
    {
     "name": "stdout",
     "output_type": "stream",
     "text": [
      "1\n",
      "10\n",
      "5\n",
      "16\n",
      "8\n",
      "4\n",
      "2\n",
      "1\n"
     ]
    }
   ],
   "source": [
    "def collatz(x):\n",
    "  \n",
    "    if(x==1): \n",
    "        print(1)\n",
    "        return \n",
    "    \n",
    "    print(int(x))\n",
    "    \n",
    "    if(x%2==0): \n",
    "        x=x/2\n",
    "    else:\n",
    "        x=3*x+1\n",
    "        \n",
    "    return(collatz(x))\n",
    "\n",
    "collatz (1)\n",
    "\n",
    "collatz (10)\n",
    " "
   ]
  },
  {
   "cell_type": "markdown",
   "id": "c6e34762",
   "metadata": {},
   "source": [
    "# Question 5\n",
    "Write a recursive method binary() that takes a non-negative\n",
    "integer n and prints the binary representation of integer n.\n",
    "\n",
    "binary(0)\n",
    "\n",
    "0\n",
    "\n",
    " binary(1)\n",
    " \n",
    "1\n",
    "\n",
    " binary(3)\n",
    " \n",
    "11\n",
    "\n",
    " binary(9)\n",
    " \n",
    " \n",
    "1001\n"
   ]
  },
  {
   "cell_type": "code",
   "execution_count": 54,
   "id": "bf2717b9",
   "metadata": {},
   "outputs": [
    {
     "name": "stdout",
     "output_type": "stream",
     "text": [
      "0"
     ]
    }
   ],
   "source": [
    "def binary(n):\n",
    "    try:\n",
    "        if (n == 0):              \n",
    "            print(0,end = '')\n",
    "        \n",
    "        elif (n == 1):              \n",
    "            print(1 % 2,end = '')\n",
    "        \n",
    "        else:                       \n",
    "            binary(n // 2)           \n",
    "            print(n % 2, end ='')  \n",
    "    except ValueError:\n",
    "        print('Value should not be negative.')\n",
    "        \n",
    "binary (0)"
   ]
  },
  {
   "cell_type": "code",
   "execution_count": 53,
   "id": "8638bd20",
   "metadata": {},
   "outputs": [
    {
     "name": "stdout",
     "output_type": "stream",
     "text": [
      "1"
     ]
    }
   ],
   "source": [
    "def binary(n):\n",
    "    try:\n",
    "        if (n == 0):              \n",
    "            print(0,end = '')\n",
    "        \n",
    "        elif (n == 1):              \n",
    "            print(1 % 2,end = '')\n",
    "        \n",
    "        else:                       \n",
    "            binary(n // 2)           \n",
    "            print(n % 2, end ='')  \n",
    "    except ValueError:\n",
    "        print('Value should not be negative.')\n",
    "        \n",
    "binary (1)"
   ]
  },
  {
   "cell_type": "code",
   "execution_count": 52,
   "id": "9505deaa",
   "metadata": {},
   "outputs": [
    {
     "name": "stdout",
     "output_type": "stream",
     "text": [
      "11"
     ]
    }
   ],
   "source": [
    "def binary(n):\n",
    "    try:\n",
    "        if (n == 0):              \n",
    "            print(0,end = '')\n",
    "        \n",
    "        elif (n == 1):              \n",
    "            print(1 % 2,end = '')\n",
    "        \n",
    "        else:                       \n",
    "            binary(n // 2)           \n",
    "            print(n % 2, end ='')  \n",
    "    except ValueError:\n",
    "        print('Value should not be negative.')\n",
    "        \n",
    "binary (3)"
   ]
  },
  {
   "cell_type": "code",
   "execution_count": 51,
   "id": "199cd49e",
   "metadata": {},
   "outputs": [
    {
     "name": "stdout",
     "output_type": "stream",
     "text": [
      "1011"
     ]
    }
   ],
   "source": [
    "def binary(n):\n",
    "    try:\n",
    "        if (n == 0):              \n",
    "            print(0,end = '')\n",
    "        \n",
    "        elif (n == 1):              \n",
    "            print(1 % 2,end = '')\n",
    "        \n",
    "        else:                       \n",
    "            binary(n // 2)           \n",
    "            print(n % 2, end ='')  \n",
    "    except ValueError:\n",
    "        print('Value should not be negative.')\n",
    "        \n",
    "binary (11)"
   ]
  },
  {
   "cell_type": "markdown",
   "id": "b456485b",
   "metadata": {},
   "source": [
    "# Question 6\n",
    "Implement a class named HeadingParser that can be used to parse an HTML\n",
    "document, and retrieve and print all the headings in the document. You should\n",
    "implement your class as a subclass of HTMLParser, defined in Standard Library\n",
    "module html.parser. When fed a string containing HTML code, your class should\n",
    "print the headings, one per line and in the order in which they appear in the\n",
    "document. Each heading should be indented as follows: an h1 heading should have indentation 0, and h2 heading should have indentation 1, etc. Test your\n",
    "implementation using w3c.html.\n",
    "\n"
   ]
  },
  {
   "cell_type": "code",
   "execution_count": 66,
   "id": "2bfdb264",
   "metadata": {
    "scrolled": true
   },
   "outputs": [
    {
     "name": "stdout",
     "output_type": "stream",
     "text": [
      "W3C Mission\n",
      " Principles\n"
     ]
    }
   ],
   "source": [
    "from html.parser import HTMLParser\n",
    "# Defining class HeadingParser as a subclass of HTMLParser\n",
    "# Print the heading in the order, in which they appear in the document.Heading should have indentation.\n",
    "\n",
    "class HeadingParser(HTMLParser):\n",
    "    checkHeader = False\n",
    "    indentNo = 0\n",
    " \n",
    "    def handle_starttag(self, x, y):\n",
    "        if x == \"h1\":\n",
    "            self.checkHeader = True\n",
    "            self.indentNo = 0\n",
    "            \n",
    "        elif x == \"h2\":\n",
    "            self.checkHeader = True\n",
    "            self.indentNo = 1\n",
    "            \n",
    "        elif x == \"h3\":\n",
    "            self.checkHeader = True\n",
    "            self.indentNo = 2\n",
    "            \n",
    "        elif x == \"h4\":\n",
    "            self.checkHeader = True\n",
    "            self.indentNo = 3\n",
    "            \n",
    "        elif x == \"h5\":\n",
    "            self.checkHeader = True\n",
    "            self.indentNo = 4\n",
    "            \n",
    "        elif x == \"h6\":\n",
    "            self.checkHeader = True\n",
    "            self.indentNo = 5\n",
    "            \n",
    "        else:\n",
    "            self.checkHeader = False\n",
    "            self.indentNo = 0\n",
    " \n",
    "    def handle_data(self, data):\n",
    "        if self.checkHeader:\n",
    "            space = \" \"*self.indentNo\n",
    "            print(\"%s%s\" % (space, data))\n",
    " \n",
    "    def handle_endtag(self, x):\n",
    "        if x in [\"h1\", \"h2\", \"h3\", \"h4\", \"h5\", \"h6\"]:\n",
    "            self.checkHeader = False\n",
    "            \n",
    "file = open(\"w3c.html.txt\")\n",
    "log = file.read()\n",
    "file.close()\n",
    "hp = HeadingParser()\n",
    "hp.feed(log)\n",
    " "
   ]
  },
  {
   "cell_type": "markdown",
   "id": "153549c1",
   "metadata": {},
   "source": [
    "# Question 8\n",
    "Write SQL queries on the below database table that return:\n",
    "\n",
    "a) All the temperature data.\n",
    "\n",
    "b) All the cities, but without repetition.\n",
    "\n",
    "c) All the records for India.\n",
    "\n",
    "d) All the Fall records\n",
    "\n",
    "e) The city, country, and season for which the average rainfall is between 200\n",
    "and 400 millimeters.\n",
    "\n",
    "f) The city and country for which the average Fall temperature is above 20\n",
    "degrees, in increasing temperature order.\n",
    "\n",
    "g) The total annual rainfall for Cairo.\n",
    "\n",
    "h) The total rainfall for each season."
   ]
  },
  {
   "cell_type": "markdown",
   "id": "a0e0c6e2",
   "metadata": {},
   "source": []
  },
  {
   "cell_type": "markdown",
   "id": "7b335ed6",
   "metadata": {},
   "source": [
    "1) SELECT Temperature FROM Table;\n",
    "\n",
    "2) SELECT DISTINCT(City) FROM Table;  \n",
    "\n",
    "3) SELECT * FROM Table WHERE Country = 'India';\n",
    "\n",
    "4) SELECT * FROM Table WHERE Season = 'Fall';\n",
    "\n",
    "5) SELECT City,Country,Season FROM Table WHERE Rainfall BETWEEN 200 AND 400;\n",
    "\n",
    "6) SELECT City,Country FROM Table WHERE Temperature > 20 ORDER by Temperature;\n",
    "\n",
    "7) SELECT SUM(Rainfall) FROM Table Group By City Having City = 'Cairo';\n",
    "\n",
    "8) SELECT SUM(Rainfall),Season from Table Group By Season;\n",
    "\n"
   ]
  },
  {
   "cell_type": "markdown",
   "id": "585b576f",
   "metadata": {},
   "source": [
    "# Question 9\n",
    "Suppose list words is defined as follows:\n",
    "\n",
    " words = ['The', 'quick', 'brown', 'fox', 'jumps', 'over','the', 'lazy', 'dog']\n",
    " \n",
    "Write list comprehension expressions that use list words and generate the following\n",
    "lists:"
   ]
  },
  {
   "cell_type": "code",
   "execution_count": 91,
   "id": "d885eb89",
   "metadata": {},
   "outputs": [
    {
     "name": "stdout",
     "output_type": "stream",
     "text": [
      "Upper case :\n",
      "['THE', 'QUICK', 'BROWN', 'FOX', 'JUMPS', 'OVER', 'THE', 'LAZY', 'DOG']\n",
      "\n",
      "\n",
      "Lower case :\n",
      "['the', 'quick', 'brown', 'fox', 'jumps', 'over', 'the', 'lazy', 'dog']\n",
      "\n",
      "\n",
      "Length of words :\n",
      "[3, 5, 5, 3, 5, 4, 3, 4, 3]\n",
      "\n",
      "\n",
      "Capital, Lower and Number of words :\n",
      "[['THE', 'the', 3], ['QUICK', 'quick', 5], ['BROWN', 'brown', 5], ['FOX', 'fox', 3], ['JUMPS', 'jumps', 5], ['OVER', 'over', 4], ['THE', 'the', 3], ['LAZY', 'lazy', 4], ['DOG', 'dog', 3]]\n",
      "\n",
      "\n",
      "List of words containing less than 4 words :\n",
      "['quick', 'brown', 'jumps', 'over', 'lazy']\n"
     ]
    }
   ],
   "source": [
    "words = ['The', 'quick', 'brown', 'fox', 'jumps', 'over', 'the', 'lazy', 'dog']\n",
    "\n",
    "ListA = []\n",
    "ListB = []\n",
    "ListC = []\n",
    "ListD = []\n",
    "ListE = []\n",
    "\n",
    "for i in words:\n",
    "    ListA.append(i.upper())\n",
    "print(\"Upper case :\")\n",
    "print(ListA)\n",
    "print(\"\\n\")\n",
    "for i in words:\n",
    "    ListB.append(i.lower())\n",
    "\n",
    "print(\"Lower case :\" )\n",
    "print(ListB)\n",
    "print(\"\\n\")\n",
    "\n",
    "for i in words:\n",
    "    ListC.append(len(i))\n",
    "print(\"Length of words :\")\n",
    "print(ListC)\n",
    "print(\"\\n\")\n",
    "\n",
    "for i in words:\n",
    "    ListD.append([i.upper(),i.lower(),len(i)])\n",
    "print(\"Capital, Lower and Number of words :\")\n",
    "print(ListD)\n",
    "print(\"\\n\")\n",
    "\n",
    "for i in words:\n",
    "     if len(i) >= 4:\n",
    "        ListE.append(i)\n",
    "print(\"List of words containing less than 4 words :\")\n",
    "print(ListE)\n",
    "\n"
   ]
  }
 ],
 "metadata": {
  "kernelspec": {
   "display_name": "Python 3",
   "language": "python",
   "name": "python3"
  },
  "language_info": {
   "codemirror_mode": {
    "name": "ipython",
    "version": 3
   },
   "file_extension": ".py",
   "mimetype": "text/x-python",
   "name": "python",
   "nbconvert_exporter": "python",
   "pygments_lexer": "ipython3",
   "version": "3.8.8"
  }
 },
 "nbformat": 4,
 "nbformat_minor": 5
}
